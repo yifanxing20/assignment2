{
 "cells": [
  {
   "cell_type": "code",
   "execution_count": 2,
   "metadata": {},
   "outputs": [],
   "source": [
    "\n",
    "## Random projections of high-dimensional data\n",
    "# for database example: digits\n",
    "# Jan Nagler (adapted, Rosebrock), April 21\n",
    "from sklearn.random_projection import johnson_lindenstrauss_min_dim\n",
    "from sklearn.random_projection import SparseRandomProjection\n",
    "from sklearn.svm import LinearSVC\n",
    "from sklearn.model_selection import train_test_split\n",
    "from sklearn import metrics\n",
    "from sklearn import datasets\n",
    "%matplotlib inline\n",
    "\n",
    "import warnings\n",
    "warnings.filterwarnings('ignore') # works\n",
    "#warnings.filterwarnings(action='once') #does not work\n",
    "\n",
    "import matplotlib.pyplot as plt\n",
    "import numpy as np\n",
    "import pandas as pd"
   ]
  },
  {
   "cell_type": "markdown",
   "metadata": {},
   "source": [
    "# dataset from the below source\n",
    "#Fang Zhou, Claire Q and Ross. D. King\n",
    "#Predicting the Geographical Origin of Music, ICDM, 2014<br>"
   ]
  },
  {
   "cell_type": "code",
   "execution_count": 3,
   "metadata": {},
   "outputs": [],
   "source": [
    "sound = np.genfromtxt('audio_track.csv', delimiter=',')"
   ]
  },
  {
   "cell_type": "code",
   "execution_count": 4,
   "metadata": {},
   "outputs": [
    {
     "data": {
      "image/png": "[encoded data removed]",
      "text/plain": [
       "<Figure size 216x216 with 1 Axes>"
      ]
     },
     "metadata": {
      "needs_background": "light"
     },
     "output_type": "display_data"
    }
   ],
   "source": [
    "X_sound = sound[:,:-2]\n",
    "Y_sound = sound[:,-1]\n",
    "plt.figure(1, figsize=(3, 3))\n",
    "time = np.linspace(0,1,114)\n",
    "plt.plot(time,X_sound[:3,:].T)\n",
    "plt.show()"
   ]
  },
  {
   "cell_type": "markdown",
   "metadata": {},
   "source": [
    "this paragraph show the first three lines in different colors"
   ]
  },
  {
   "cell_type": "code",
   "execution_count": 5,
   "metadata": {},
   "outputs": [],
   "source": [
    "split = train_test_split(X_sound, Y_sound, test_size = 0.3,\n",
    "    random_state = 11)\n",
    "(trainData, testData, trainTarget, testTarget) = split"
   ]
  },
  {
   "cell_type": "code",
   "execution_count": 6,
   "metadata": {},
   "outputs": [
    {
     "name": "stdout",
     "output_type": "stream",
     "text": [
      "Professors Johnson and Lindenstrauss say: k >= 5970\n"
     ]
    }
   ],
   "source": [
    "# Print what the theory says for k, given an eps(ilon)\n",
    "# for n=1797 images, dimension d=8x8=64 (digits)\n",
    "print (\"Professors Johnson and Lindenstrauss say: k >=\", johnson_lindenstrauss_min_dim(1059,eps=0.1))"
   ]
  },
  {
   "cell_type": "markdown",
   "metadata": {},
   "source": [
    "#### first try with linear model "
   ]
  },
  {
   "cell_type": "code",
   "execution_count": 7,
   "metadata": {},
   "outputs": [],
   "source": [
    "model = LinearSVC()\n",
    "model.fit(trainData, trainTarget)\n",
    "baseline = metrics.accuracy_score(model.predict(testData), testTarget)\n",
    "accuracies = []\n",
    "dims = np.int32(np.linspace(2, 114, 20))"
   ]
  },
  {
   "cell_type": "code",
   "execution_count": 8,
   "metadata": {},
   "outputs": [],
   "source": [
    "# Loop over the projection sizes, k\n",
    "for dim in dims:\n",
    "    # Create random projection\n",
    "    sp = SparseRandomProjection(n_components = dim)\n",
    "    X = sp.fit_transform(trainData)\n",
    " \n",
    "    # Train classifier of your choice on the sparse random projection\n",
    "    model = LinearSVC()\n",
    "    model.fit(X, trainTarget)\n",
    " \n",
    "    # Evaluate model and update accuracies\n",
    "    test = sp.transform(testData)\n",
    "    accuracies.append(metrics.accuracy_score(model.predict(test), testTarget))"
   ]
  },
  {
   "cell_type": "code",
   "execution_count": 9,
   "metadata": {},
   "outputs": [
    {
     "data": {
      "text/plain": [
       "[0.08490566037735849,\n",
       " 0.14465408805031446,\n",
       " 0.24213836477987422,\n",
       " 0.3050314465408805,\n",
       " 0.2830188679245283,\n",
       " 0.34276729559748426,\n",
       " 0.3584905660377358,\n",
       " 0.33647798742138363,\n",
       " 0.33647798742138363,\n",
       " 0.33962264150943394,\n",
       " 0.36477987421383645,\n",
       " 0.39308176100628933,\n",
       " 0.3742138364779874,\n",
       " 0.389937106918239,\n",
       " 0.3710691823899371,\n",
       " 0.3867924528301887,\n",
       " 0.3742138364779874,\n",
       " 0.3805031446540881,\n",
       " 0.37735849056603776,\n",
       " 0.39937106918238996]"
      ]
     },
     "execution_count": 9,
     "metadata": {},
     "output_type": "execute_result"
    }
   ],
   "source": [
    "accuracies"
   ]
  },
  {
   "cell_type": "markdown",
   "metadata": {},
   "source": [
    "the arrucay is not very good, so another model is tried "
   ]
  },
  {
   "cell_type": "code",
   "execution_count": 11,
   "metadata": {},
   "outputs": [
    {
     "data": {
      "text/plain": [
       "array([20., 27.,  5., 12., 20., 26., 28., 30., 12., 14., 13., 12., 15.,\n",
       "       21., 31., 23., 21., 21.,  0., 21.,  6., 30., 27., 14., 27., 29.,\n",
       "       21., 28., 29.,  4.,  4., 21.,  6., 17., 17., 14.,  0., 31., 31.,\n",
       "       24., 23., 23.,  4., 14., 11., 23., 25., 16., 13., 10., 13., 28.,\n",
       "       16., 20.,  0., 14., 12., 27., 22., 19., 11., 14.,  1., 12.,  0.,\n",
       "       13., 27., 24., 14., 19., 11.,  0., 26., 13., 20.,  1., 25., 27.,\n",
       "       22., 12., 24., 22.,  6., 32., 20., 14.,  6., 28., 23., 20.,  4.,\n",
       "       12.,  6., 29., 10., 25., 28., 31.,  8., 32., 13., 14., 30., 13.,\n",
       "       29., 19., 30., 21.,  0., 27.,  5., 32., 14., 12., 22., 22., 21.,\n",
       "       12.,  6.,  0., 16., 16., 11., 16., 30.,  0., 22., 16.,  6.,  7.,\n",
       "        5.,  0., 24.,  6., 32., 21., 28.,  6., 16.,  0., 14., 26., 22.,\n",
       "       14., 24., 22., 28., 27., 23., 14.,  7., 14., 13., 21., 14., 20.,\n",
       "        7., 29.,  7., 15., 25., 20., 16., 28.,  8., 14.,  6., 11., 14.,\n",
       "       12., 31., 23., 20., 25., 28., 24., 31., 31., 30., 27.,  1., 25.,\n",
       "       14., 21., 14., 30.,  0.,  9., 12., 25.,  9., 13., 14.,  1.,  6.,\n",
       "       11., 23., 12., 11.,  0., 14., 11., 27., 12., 14.,  7.,  7.,  6.,\n",
       "        6.,  6., 16., 23., 21., 20., 20., 20., 31., 13., 21., 28., 20.,\n",
       "       32.,  6.,  0., 21., 32.,  2., 22., 28., 24., 11., 21., 13., 14.,\n",
       "       20., 11., 23.,  1.,  6., 14., 26.,  6., 16., 26., 16., 21., 14.,\n",
       "       32., 28., 31., 14., 14., 27., 28., 21.,  6.,  2., 14., 22., 14.,\n",
       "        9.,  5., 32., 14., 24., 12.,  0., 21., 21., 27., 14., 12., 17.,\n",
       "       16., 20., 21.,  1., 20., 20., 16.,  2., 23.,  0., 23., 32., 20.,\n",
       "        7., 16.,  6., 11.,  0., 21., 17., 23.,  1.,  9., 14.,  1., 27.,\n",
       "       27.,  8., 14., 13., 31.,  7., 31., 21., 13., 22., 24., 11.,  6.,\n",
       "        2., 30., 31.,  5.,  5., 24.])"
      ]
     },
     "execution_count": 11,
     "metadata": {},
     "output_type": "execute_result"
    }
   ],
   "source": [
    "# use another model2\n",
    "from sklearn.ensemble import RandomForestClassifier\n",
    "import math\n",
    "\n",
    "model= RandomForestClassifier(n_estimators=1000,max_features=114, max_depth=None,min_samples_split=2, bootstrap=True)\n",
    "\n",
    "model.fit(trainData, trainTarget)\n",
    "area2_predict = model.predict(testData) \n",
    "metrics.accuracy_score(area2_predict,testTarget)"
   ]
  },
  {
   "cell_type": "code",
   "execution_count": 13,
   "metadata": {},
   "outputs": [
    {
     "data": {
      "text/plain": [
       "0.4968553459119497"
      ]
     },
     "execution_count": 13,
     "metadata": {},
     "output_type": "execute_result"
    }
   ],
   "source": [
    "metrics.accuracy_score(area2_predict,testTarget)"
   ]
  },
  {
   "cell_type": "markdown",
   "metadata": {},
   "source": [
    "the accuracy is not high as well,due to time limitation, we will currently stop trying."
   ]
  },
  {
   "cell_type": "code",
   "execution_count": null,
   "metadata": {},
   "outputs": [],
   "source": [
    "# use another model1\n",
    "accracies = []\n",
    "\n",
    "from keras.models import Sequential\n",
    "from keras.layers.core import Dense, Dropout, Activation\n",
    "from keras.utils import np_utils\n",
    "for dim in dims :\n",
    "    sp = SparseRandomProjection(n_components = dim)\n",
    "    X = sp.fit_transform(trainData)\n",
    "    \n",
    "    model = buildSequentialModel()\n",
    "    model.compile(loss='categorical_crossentropy', optimizer='adam', metrics=[\"accuracy\"])\n",
    "    model.fit(trainData, trainTarget, \n",
    "          batch_size=80, \n",
    "          epochs=10, \n",
    "          verbose=1,\n",
    "          #optimizer = my_optimizer,\n",
    "          validation_data=(testData, testTarget))\n",
    "    \n",
    "    test = sp.transform(testData)\n",
    "    score = model.evaluate(X_test, Y_test, verbose=1)\n",
    "    accuracies.append(metrics.accuracy_score(kmeans.predict(test), testTarget))"
   ]
  },
  {
   "cell_type": "code",
   "execution_count": null,
   "metadata": {},
   "outputs": [],
   "source": [
    "# Create figure\n",
    "plt.figure()\n",
    "plt.xlabel(\"# of dimensions k\")\n",
    "plt.ylabel(\"Accuracy\")\n",
    "plt.xlim([2, 114])\n",
    "plt.ylim([0, 1])\n",
    " \n",
    "# Plot baseline and random projection accuracies\n",
    "plt.plot(dims, [baseline] * len(accuracies), color = \"r\")\n",
    "plt.plot(dims, accuracies)\n",
    "\n",
    "plt.show()"
   ]
  },
  {
   "cell_type": "code",
   "execution_count": null,
   "metadata": {},
   "outputs": [],
   "source": []
  }
 ],
 "metadata": {
  "kernelspec": {
   "display_name": "Python 3",
   "language": "python",
   "name": "python3"
  },
  "language_info": {
   "codemirror_mode": {
    "name": "ipython",
    "version": 3
   },
   "file_extension": ".py",
   "mimetype": "text/x-python",
   "name": "python",
   "nbconvert_exporter": "python",
   "pygments_lexer": "ipython3",
   "version": "3.7.3"
  }
 },
 "nbformat": 4,
 "nbformat_minor": 5
}
